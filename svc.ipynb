{
 "cells": [
  {
   "cell_type": "markdown",
   "metadata": {},
   "source": [
    "# Support vector classification"
   ]
  },
  {
   "cell_type": "markdown",
   "metadata": {},
   "source": [
    "Support vector classification is a supervised learning algorithm that can be used as an alternative to logistic classification. This algorithm represents the training data as points in space which are mapped so that they are divided by a gap. The new data is then mapped into the space and predicte to belong to a category based on the side of the gap they fit into.\n",
    "\n",
    "Since we are working with a large dataset with over 9k features, it will be of interest to attempt to reduce the number of features. This can be done with a regularization parameter. One such regularization method is Lasso, which adds an $L_1$ penalty to the loss function. Using Lasso will force the weak features to have zero as a coefficient, which leads to sparse solutions. This property can be a disadvantage, since features which are considered weak may be of importance to the application. Lasso can especially be a disadvantage when we are in the case of high-dimensional data with a small sample size, which is often the case with genomic data. One possible solution to this problem is to combine the penalty from Lasso with the penalty from Ridge regression. This regularization methos is called Elastic-net, combining the $L_1$ and the $L_2$ penalty. \n",
    "\n",
    "The following code will create a support vector classifier with the two following regularization methods:\n",
    "1. Lasso ($L_1$ penalty)\n",
    "2. Elastic-net ($L_1$ and $L_2$ penalty)"
   ]
  },
  {
   "cell_type": "markdown",
   "metadata": {},
   "source": [
    "## Framework to train and test the model "
   ]
  },
  {
   "cell_type": "markdown",
   "metadata": {},
   "source": [
    "We will first create a general framework to train and test a classifier. This will occur in the same way regardless of what classification and regularization method we use. The framework will include reading the training and test data, training the model and validating the accuracy of the model. "
   ]
  },
  {
   "cell_type": "code",
   "execution_count": 1,
   "metadata": {},
   "outputs": [],
   "source": [
    "# Import necessary packages\n",
    "import pandas as pd\n",
    "import numpy as np\n",
    "import matplotlib.pyplot as plt\n",
    "from sklearn.linear_model import SGDClassifier\n",
    "from sklearn.metrics import accuracy_score\n",
    "from sklearn.preprocessing import StandardScaler\n",
    "from sklearn.metrics import roc_curve, auc\n",
    "from lifelines import KaplanMeierFitter\n",
    "from lifelines.statistics import logrank_test"
   ]
  },
  {
   "cell_type": "code",
   "execution_count": 2,
   "metadata": {},
   "outputs": [],
   "source": [
    "# Set random state\n",
    "SEED = 0"
   ]
  },
  {
   "cell_type": "code",
   "execution_count": 3,
   "metadata": {},
   "outputs": [],
   "source": [
    "def read_data(filename, scaling=True, survival=False, gene=False):\n",
    "\n",
    "    \"\"\" Function that reads file containing patient-info and gene expression,\n",
    "    and separates the data into data (X) and target (y). Option to get \n",
    "    additional information (survival data, gene-info). \"\"\"\n",
    "\n",
    "    # Read data\n",
    "    data = pd.read_csv(filename, sep=\"\\t\", index_col=0, encoding=\"utf-8\")\n",
    "\n",
    "    # Save label information\n",
    "    patients = data.index\n",
    "    genes = data.columns[2:-3]\n",
    "    \n",
    "    # Survival data\n",
    "    time = data[\"time\"]\n",
    "    event = data[\"event\"]\n",
    "    \n",
    "    # Extract data and target for modeling\n",
    "    data = data.dropna()\n",
    "    X = data.loc[:,data.columns[2:-3]].values\n",
    "    y = data[\"cluster2_2\"].values\n",
    "\n",
    "    # Option to scale data when needed\n",
    "    if scaling == True:\n",
    "        scaler = StandardScaler()\n",
    "        \n",
    "        # Scale genes\n",
    "        X = scaler.fit_transform(XX) \n",
    "\n",
    "    # Option to get survival data\n",
    "    if survival == True:\n",
    "        return X, y, patients, time, event\n",
    "\n",
    "    # Option to get gene-list\n",
    "    if gene == True:\n",
    "        return X, y, genes\n",
    "    \n",
    "    # Option to get all information\n",
    "    if gene == True and survival == True:\n",
    "        return X, y, patients, time, event, genes\n",
    "\n",
    "    return X, y"
   ]
  },
  {
   "cell_type": "code",
   "execution_count": 4,
   "metadata": {},
   "outputs": [],
   "source": [
    "# Read training and test data\n",
    "X_train, y_train = read_data(\"data/training/merged_training_data.txt\")\n",
    "X_test, y_test, patients, T, E = read_data(\"data/test/merged_test_data.txt\", survival=True)"
   ]
  },
  {
   "cell_type": "code",
   "execution_count": 5,
   "metadata": {},
   "outputs": [],
   "source": [
    "def train_test_model(clf):\n",
    "    \"\"\"Function that trains and tests a classifier. \"\"\"\n",
    "    \n",
    "    # Train model\n",
    "    model = clf.fit(X_train, y_train)\n",
    "    \n",
    "    # Predict on training data\n",
    "    y_pred = clf.predict(X_train)\n",
    "    \n",
    "    # Compute accuracy of model on training data\n",
    "    acc_score_train = accuracy_score(y_train, y_pred)\n",
    "    \n",
    "    # Predict on test data\n",
    "    y_pred = clf.predict(X_test)\n",
    "    \n",
    "    # Compute accuracy of model on test data\n",
    "    acc_score_test = accuracy_score(y_test, y_pred)\n",
    "    \n",
    "    # Get number of non-zero coefficients in the fitted model\n",
    "    n_nonzero = 0\n",
    "    for i in range(0,clf.coef_.shape[0]):\n",
    "        for j in range(0,clf.coef_.shape[1]):\n",
    "            if clf.coef_[i][j] != 0:\n",
    "                n_nonzero += 1\n",
    "    \n",
    "    return model, acc_score_train, acc_score_test, n_nonzero"
   ]
  },
  {
   "cell_type": "markdown",
   "metadata": {},
   "source": [
    "### 1. Lasso regularization"
   ]
  },
  {
   "cell_type": "code",
   "execution_count": 6,
   "metadata": {},
   "outputs": [],
   "source": [
    "# Parameters\n",
    "lamb = 0.01 \n",
    "max_iter = 1000"
   ]
  },
  {
   "cell_type": "code",
   "execution_count": 7,
   "metadata": {},
   "outputs": [],
   "source": [
    "# Create support vector classifier with Lasso penalty \n",
    "clf_lasso = SGDClassifier(loss=\"hinge\", penalty=\"l1\", alpha=lamb, max_iter=max_iter, n_jobs=8, random_state=SEED)"
   ]
  },
  {
   "cell_type": "code",
   "execution_count": 8,
   "metadata": {},
   "outputs": [
    {
     "name": "stdout",
     "output_type": "stream",
     "text": [
      "Accuracy score on training data:  0.8769541099344428\n",
      "Accuracy score on test data:  0.6931818181818182\n",
      "Number of non-zero features:  1449\n"
     ]
    }
   ],
   "source": [
    "# Train and test classifier\n",
    "lasso_model, acc_score_train, acc_score_test, n_nonzero = train_test_model(clf_lasso)\n",
    "print(\"Accuracy score on training data: \", acc_score_train)\n",
    "print(\"Accuracy score on test data: \",  acc_score_test)\n",
    "print(\"Number of non-zero features: \", n_nonzero)"
   ]
  },
  {
   "cell_type": "markdown",
   "metadata": {},
   "source": [
    "### 2. Elastic-net regularization"
   ]
  },
  {
   "cell_type": "code",
   "execution_count": 9,
   "metadata": {},
   "outputs": [],
   "source": [
    "# Create support vector classifier with Lasso penalty \n",
    "clf_elastic = SGDClassifier(loss=\"hinge\", penalty=\"elasticnet\", alpha=lamb, max_iter=max_iter, n_jobs=8, random_state=SEED)"
   ]
  },
  {
   "cell_type": "code",
   "execution_count": 10,
   "metadata": {},
   "outputs": [
    {
     "name": "stdout",
     "output_type": "stream",
     "text": [
      "Accuracy score on training data:  0.9947049924357034\n",
      "Accuracy score on test data:  0.6827651515151515\n",
      "Number of non-zero features:  3624\n"
     ]
    }
   ],
   "source": [
    "# Train and test classifier\n",
    "elastic_model, acc_score_train, acc_score_test, n_nonzero = train_test_model(clf_elastic)\n",
    "print(\"Accuracy score on training data: \", acc_score_train)\n",
    "print(\"Accuracy score on test data: \",  acc_score_test)\n",
    "print(\"Number of non-zero features: \", n_nonzero)"
   ]
  },
  {
   "cell_type": "markdown",
   "metadata": {},
   "source": [
    "## Survival analysis\n",
    "To compute the survival function we use the Kaplan-Meier estimator. The Kaplan-Meier estimator can measure the fraction of patients living after treatment. In this particular case, it will estimate the probability that a patient is alive after having the tumor surgically removed. "
   ]
  },
  {
   "cell_type": "code",
   "execution_count": 13,
   "metadata": {},
   "outputs": [],
   "source": [
    "def kaplan_meier(df, ax, label):\n",
    "    \"\"\" Function that estimates survival using the Kaplan-Meier estimator, given dataframe with \n",
    "    survival data. \"\"\"\n",
    "\n",
    "    # Get event and time from df\n",
    "    E = df[\"event\"] # dead = 1\n",
    "    T = df[\"time\"]\n",
    "    T = T/365. # time in years\n",
    "    T = T.apply(lambda x: 15. if x >= 15. else x) # set time limit to 15 years\n",
    "\n",
    "    # Compute surival estimates for all donor samples\n",
    "    kmf = KaplanMeierFitter()\n",
    "    kmf.fit(T, E, label=label)\n",
    "    kmf.plot(ax=ax)\n",
    "\n",
    "    return T, E, kmf.survival_function_"
   ]
  },
  {
   "cell_type": "code",
   "execution_count": 14,
   "metadata": {},
   "outputs": [],
   "source": [
    "def estimate_based_on_clustering(df, ax):\n",
    "    \"\"\" Function that estimates survival for each cluster in a dataframe. \"\"\"\n",
    "    \n",
    "    # Cluster names and counts\n",
    "    clusters = df.cluster2_pred.unique()\n",
    "    cluster_counts = df.cluster2_pred.value_counts()\n",
    "    \n",
    "    # Estimate survival for each predicted cluster\n",
    "    C1 = df.loc[df[\"cluster2_pred\"] == 1]\n",
    "    T1, E1, c1_surv_func = kaplan_meier(C1, ax, label=\"Cluster B (n=%d)\" %cluster_counts[1])\n",
    "    C2 = df.loc[df[\"cluster2_pred\"] == 0]\n",
    "    T2, E2, c2_surv_func = kaplan_meier(C2, ax, label=\"Not cluster B (n=%d)\" %cluster_counts[0])\n",
    "\n",
    "    # Logrank test\n",
    "    res = logrank_test(T1, T2, E1, E2)\n",
    "\n",
    "    return c1_surv_func, c2_surv_func, res.p_value"
   ]
  },
  {
   "cell_type": "code",
   "execution_count": 15,
   "metadata": {},
   "outputs": [],
   "source": [
    "# Get survival data and the predicted cluster for test data\n",
    "d_lasso = {\"samplename\": patients, \"time\": T, \"event\": E, \"cluster2_pred\": clf_lasso.predict(X_test)}\n",
    "pred_data_lasso = pd.DataFrame(d_lasso).dropna()\n",
    "d_elastic = {\"samplename\": patients, \"time\": T, \"event\": E, \"cluster2_pred\": clf_elastic.predict(X_test)}\n",
    "pred_data_elastic = pd.DataFrame(d_elastic).dropna()"
   ]
  },
  {
   "cell_type": "code",
   "execution_count": 16,
   "metadata": {},
   "outputs": [
    {
     "data": {
      "image/png": "[encoded data removed]",
      "text/plain": [
       "<Figure size 432x288 with 1 Axes>"
      ]
     },
     "metadata": {
      "needs_background": "light"
     },
     "output_type": "display_data"
    },
    {
     "data": {
      "image/png": "[encoded data removed]",
      "text/plain": [
       "<Figure size 432x288 with 1 Axes>"
      ]
     },
     "metadata": {
      "needs_background": "light"
     },
     "output_type": "display_data"
    },
    {
     "name": "stdout",
     "output_type": "stream",
     "text": [
      "Lasso: p-value =  2.4553527045077727e-05\n",
      "Elastic-net: p-value =  9.4151200968937e-08\n"
     ]
    }
   ],
   "source": [
    "# Plot survival curves for prediction on test data\n",
    "ax = plt.subplot(111)\n",
    "f1_l, f2_l, p_l = estimate_based_on_clustering(pred_data_lasso, ax)\n",
    "plt.ylabel(\"Probability the donor is alive\")\n",
    "plt.title(\"Survival estimate for predicted clusters with Lasso penalty (p-value = %.4f)\" %p_l)\n",
    "plt.show()\n",
    "ax = plt.subplot(111)\n",
    "f1_el, f2_el, p_el = estimate_based_on_clustering(pred_data_elastic, ax)\n",
    "plt.ylabel(\"Probability the donor is alive\")\n",
    "plt.title(\"Survival estimate for predicted clusters with Elastic-net penalty (p-value = %.4f)\" %p_el)\n",
    "plt.show()\n",
    "print(\"Lasso: p-value = \", p_l)\n",
    "print(\"Elastic-net: p-value = \", p_el)"
   ]
  }
 ],
 "metadata": {
  "kernelspec": {
   "display_name": "Python 3",
   "language": "python",
   "name": "python3"
  },
  "language_info": {
   "codemirror_mode": {
    "name": "ipython",
    "version": 3
   },
   "file_extension": ".py",
   "mimetype": "text/x-python",
   "name": "python",
   "nbconvert_exporter": "python",
   "pygments_lexer": "ipython3",
   "version": "3.6.5"
  }
 },
 "nbformat": 4,
 "nbformat_minor": 2
}
