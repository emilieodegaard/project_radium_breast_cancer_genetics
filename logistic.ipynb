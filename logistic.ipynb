{
 "cells": [
  {
   "cell_type": "markdown",
   "metadata": {},
   "source": [
    "# Logistic classification"
   ]
  },
  {
   "cell_type": "markdown",
   "metadata": {},
   "source": [
    "Logistic regression estimates the parameters of a classification model with binary dependent variables.\n",
    "\n",
    "Since we are working with a large dataset with over 9k features, it will be of interest to attempt to reduce the number of features. This can be done with a regularization parameter. One such regularization method is Lasso, which adds an $L_1$ penalty to the loss function. Using Lasso will force the weak features to have zero as a coefficient, which leads to sparse solutions. This property can be a disadvantage, since features which are considered weak may be of importance to the application. Lasso can especially be a disadvantage when we are in the case of high-dimensional data with a small sample size, which is often the case with genomic data. One possible solution to this problem is to combine the penalty from Lasso with the penalty from Ridge regression. This regularization methos is called Elastic-net, combining the $L_1$ and the $L_2$ penalty. \n",
    "\n",
    "The following code will create a logistic classifier with the following two regularization methods:\n",
    "1. Lasso ($L_1$ penalty)\n",
    "2. Elastic-net ($L_1$ and $L_2$ penalty)"
   ]
  },
  {
   "cell_type": "markdown",
   "metadata": {},
   "source": [
    "## Framework to train and test the model "
   ]
  },
  {
   "cell_type": "markdown",
   "metadata": {},
   "source": [
    "We will first create a general framework to train and test a classifier. This will occur in the same way regardless of what classification and regularization method we use. The framework will include reading the training and test data, training the model and validating the accuracy of the model. "
   ]
  },
  {
   "cell_type": "code",
   "execution_count": 1,
   "metadata": {},
   "outputs": [],
   "source": [
    "# Import necessary packages\n",
    "import pandas as pd\n",
    "import numpy as np\n",
    "import matplotlib.pyplot as plt\n",
    "from sklearn.linear_model import SGDClassifier\n",
    "from sklearn.metrics import accuracy_score\n",
    "from sklearn.preprocessing import StandardScaler\n",
    "from sklearn.metrics import roc_curve, auc\n",
    "from lifelines import KaplanMeierFitter\n",
    "from lifelines.statistics import logrank_test"
   ]
  },
  {
   "cell_type": "code",
   "execution_count": 2,
   "metadata": {},
   "outputs": [],
   "source": [
    "# Set random state\n",
    "SEED = 0"
   ]
  },
  {
   "cell_type": "code",
   "execution_count": 12,
   "metadata": {},
   "outputs": [],
   "source": [
    "def read_data(filename, scaling=True, info=False):\n",
    "\n",
    "    \"\"\" Function that reads file containing patient-info and gene expression,\n",
    "    and separates the data into data (X) and target (y). Option to get \n",
    "    additional information (survival data, gene-info). \"\"\"\n",
    "\n",
    "    # Read data\n",
    "    data = pd.read_csv(filename, sep=\"\\t\", index_col=0, encoding=\"utf-8\")\n",
    "\n",
    "    # Save label information\n",
    "    patients = data.index\n",
    "    genes = data.columns[2:-3]\n",
    "    \n",
    "    # Survival data\n",
    "    time = data[\"time\"]\n",
    "    event = data[\"event\"]\n",
    "    \n",
    "    # Extract data and target for modeling\n",
    "    data = data.dropna()\n",
    "    X = data.loc[:,data.columns[2:-3]].values\n",
    "    y = data[\"cluster2_2\"].values\n",
    "\n",
    "    # Option to scale data when needed\n",
    "    if scaling == True:\n",
    "        scaler = StandardScaler()\n",
    "        \n",
    "        # We want to scale the patientsamples, i.e we need to transpose the data before scaling\n",
    "        X = scaler.fit_transform(X) \n",
    "\n",
    "    # Option to get survival data\n",
    "    if info == True:\n",
    "        return X, y, patients, time, event, genes\n",
    "\n",
    "    return X, y"
   ]
  },
  {
   "cell_type": "code",
   "execution_count": 13,
   "metadata": {},
   "outputs": [],
   "source": [
    "# Read training and test data\n",
    "X_train, y_train = read_data(\"data/training/merged_training_data.txt\")\n",
    "X_test, y_test, patients, T, E, genes = read_data(\"data/test/merged_test_data.txt\", info=True)"
   ]
  },
  {
   "cell_type": "code",
   "execution_count": 14,
   "metadata": {},
   "outputs": [],
   "source": [
    "def train_test_model(clf):\n",
    "    \"\"\"Function that trains and tests a classifier. \"\"\"\n",
    "    \n",
    "    # Train model\n",
    "    model = clf.fit(X_train, y_train)\n",
    "    \n",
    "    # Predict on training data\n",
    "    y_pred = clf.predict(X_train)\n",
    "    \n",
    "    # Compute accuracy of model on training data\n",
    "    acc_score_train = accuracy_score(y_train, y_pred)\n",
    "    \n",
    "    # Predict on test data\n",
    "    y_pred = clf.predict(X_test)\n",
    "    \n",
    "    # Compute accuracy of model on test data\n",
    "    acc_score_test = accuracy_score(y_test, y_pred)\n",
    "    \n",
    "    # Get number of non-zero coefficients in the fitted model\n",
    "    n_nonzero = 0\n",
    "    for i in range(0,clf.coef_.shape[0]):\n",
    "        for j in range(0,clf.coef_.shape[1]):\n",
    "            if clf.coef_[i][j] != 0:\n",
    "                n_nonzero += 1\n",
    "    \n",
    "    return model, acc_score_train, acc_score_test, n_nonzero"
   ]
  },
  {
   "cell_type": "markdown",
   "metadata": {},
   "source": [
    "### 1. Lasso regularization"
   ]
  },
  {
   "cell_type": "code",
   "execution_count": 15,
   "metadata": {},
   "outputs": [],
   "source": [
    "# Parameters\n",
    "lamb = 0.01 \n",
    "max_iter = 1000"
   ]
  },
  {
   "cell_type": "code",
   "execution_count": 16,
   "metadata": {},
   "outputs": [],
   "source": [
    "# Create logistic classifier with Lasso penalty \n",
    "clf_lasso = SGDClassifier(loss=\"log\", penalty=\"l1\", alpha=lamb, max_iter=max_iter, n_jobs=16, random_state=SEED)"
   ]
  },
  {
   "cell_type": "code",
   "execution_count": null,
   "metadata": {},
   "outputs": [],
   "source": [
    "# Train and test classifier\n",
    "lasso_model, acc_score_train, acc_score_test, n_nonzero = train_test_model(clf_lasso)\n",
    "print(\"Accuracy score on training data: \", acc_score_train)\n",
    "print(\"Accuracy score on test data: \",  acc_score_test)\n",
    "print(\"Number of non-zero features: \", n_nonzero)"
   ]
  },
  {
   "cell_type": "code",
   "execution_count": null,
   "metadata": {},
   "outputs": [],
   "source": [
    "# Create confusion matrix\n",
    "y_pred = clf_lasso.predict(X_test)\n",
    "conf_matrix = pd.crosstab(y_test, y_pred, rownames=['Actual cluster'], colnames=['Predicted cluster'])\n",
    "print(conf_matrix)"
   ]
  },
  {
   "cell_type": "markdown",
   "metadata": {},
   "source": [
    "### 2. Elastic-net regularization"
   ]
  },
  {
   "cell_type": "code",
   "execution_count": 9,
   "metadata": {},
   "outputs": [],
   "source": [
    "# Create logistic classifier with Lasso penalty \n",
    "clf_elastic = SGDClassifier(loss=\"log\", penalty=\"elasticnet\", alpha=lamb, max_iter=max_iter, n_jobs=8, random_state=SEED)"
   ]
  },
  {
   "cell_type": "code",
   "execution_count": 10,
   "metadata": {},
   "outputs": [
    {
     "name": "stdout",
     "output_type": "stream",
     "text": [
      "Accuracy score on training data:  0.9757942511346445\n",
      "Accuracy score on test data:  0.6827651515151515\n",
      "Number of non-zero features:  3606\n"
     ]
    }
   ],
   "source": [
    "# Train and test classifier\n",
    "elastic_model, acc_score_train, acc_score_test, n_nonzero = train_test_model(clf_elastic)\n",
    "print(\"Accuracy score on training data: \", acc_score_train)\n",
    "print(\"Accuracy score on test data: \",  acc_score_test)\n",
    "print(\"Number of non-zero features: \", n_nonzero)"
   ]
  },
  {
   "cell_type": "code",
   "execution_count": null,
   "metadata": {},
   "outputs": [],
   "source": [
    "# Create confusion matrix\n",
    "conf_matrix = pd.crosstab(y_test, y_pred, rownames=['Actual cluster'], colnames=['Predicted cluster'])\n",
    "print(conf_matrix)"
   ]
  },
  {
   "cell_type": "markdown",
   "metadata": {},
   "source": [
    "## ROC curve\n",
    "A ROC curve is a performance measurement for classification problems at various thresholds settings. These curves show how a predictive model correctly predicts whether a positive is a true positive."
   ]
  },
  {
   "cell_type": "code",
   "execution_count": 11,
   "metadata": {},
   "outputs": [],
   "source": [
    "# Compute false positives and true positives for all thresholds of classification  \n",
    "probs_l = clf_lasso.predict_proba(X_test)\n",
    "preds_l = probs_l[:,1]\n",
    "fpr_l, tpr_l, threshold_l = roc_curve(y_test, preds_l)\n",
    "roc_auc_l = auc(fpr_l, tpr_l)\n",
    "probs_el = clf_elastic.predict_proba(X_test)\n",
    "preds_el = probs_el[:,1]\n",
    "fpr_el, tpr_el, threshold_el = roc_curve(y_test, preds_el)\n",
    "roc_auc_el = auc(fpr_el, tpr_el)"
   ]
  },
  {
   "cell_type": "code",
   "execution_count": 13,
   "metadata": {},
   "outputs": [
    {
     "data": {
      "image/png": "[encoded data removed]",
      "text/plain": [
       "<Figure size 432x288 with 1 Axes>"
      ]
     },
     "metadata": {
      "needs_background": "light"
     },
     "output_type": "display_data"
    }
   ],
   "source": [
    "# Plot ROC curve\n",
    "plt.title('ROC for Logistic classifier')\n",
    "plt.plot(fpr_l, tpr_l, color='purple', label = 'Lasso: AUC = %0.2f' % roc_auc_l)\n",
    "plt.plot(fpr_el, tpr_el, color='darkorange', label = 'Elastic-net: AUC = %0.2f' % roc_auc_el)\n",
    "plt.legend(loc = 'lower right')\n",
    "plt.plot([0, 1], [0, 1],color=\"black\", linestyle=\"--\")\n",
    "plt.xlim([0, 1])\n",
    "plt.ylim([0, 1])\n",
    "plt.ylabel('True Positive Rate')\n",
    "plt.xlabel('False Positive Rate')\n",
    "plt.show()"
   ]
  },
  {
   "cell_type": "markdown",
   "metadata": {},
   "source": [
    "## Survival analysis\n",
    "To compute the survival function we use the Kaplan-Meier estimator whiich can measure the fraction of patients living after treatment. In this particular case, it will estimate the probability that a patient is alive after having the tumor surgically removed. "
   ]
  },
  {
   "cell_type": "code",
   "execution_count": 14,
   "metadata": {},
   "outputs": [],
   "source": [
    "def kaplan_meier(df, ax, label):\n",
    "    \"\"\" Function that estimates survival using the Kaplan-Meier estimator, given dataframe with \n",
    "    survival data. \"\"\"\n",
    "\n",
    "    # Get event and time from df\n",
    "    E = df[\"event\"] # dead = 1\n",
    "    T = df[\"time\"]\n",
    "    T = T/365. # time in years\n",
    "    T = T.apply(lambda x: 15. if x >= 15. else x) # set time limit to 15 years\n",
    "\n",
    "    # Compute surival estimates for all donor samples\n",
    "    kmf = KaplanMeierFitter()\n",
    "    kmf.fit(T, E, label=label)\n",
    "    kmf.plot(ax=ax)\n",
    "\n",
    "    return T, E, kmf.survival_function_"
   ]
  },
  {
   "cell_type": "code",
   "execution_count": 15,
   "metadata": {},
   "outputs": [],
   "source": [
    "def estimate_based_on_clustering(df, ax):\n",
    "    \"\"\" Function that estimates survival for each cluster in a dataframe. \"\"\"\n",
    "    \n",
    "    # Cluster names and counts\n",
    "    clusters = df.cluster2_pred.unique()\n",
    "    cluster_counts = df.cluster2_pred.value_counts()\n",
    "    \n",
    "    # Estimate survival for each predicted cluster\n",
    "    C1 = df.loc[df[\"cluster2_pred\"] == 1]\n",
    "    T1, E1, c1_surv_func = kaplan_meier(C1, ax, label=\"Cluster B (n=%d)\" %cluster_counts[1])\n",
    "    C2 = df.loc[df[\"cluster2_pred\"] == 0]\n",
    "    T2, E2, c2_surv_func = kaplan_meier(C2, ax, label=\"Not cluster B (n=%d)\" %cluster_counts[0])\n",
    "\n",
    "    # Logrank test\n",
    "    res = logrank_test(T1, T2, E1, E2)\n",
    "\n",
    "    return c1_surv_func, c2_surv_func, res.p_value"
   ]
  },
  {
   "cell_type": "code",
   "execution_count": 34,
   "metadata": {},
   "outputs": [
    {
     "name": "stdout",
     "output_type": "stream",
     "text": [
      "                samplename  time  event  cluster2_pred\n",
      "samplename                                            \n",
      "KIT_104B91      KIT_104B91  1308    0.0              0\n",
      "KIT_112B55      KIT_112B55   335    1.0              1\n",
      "KIT_114B68      KIT_114B68  3833    0.0              0\n",
      "KIT_130B92      KIT_130B92  1612    1.0              0\n",
      "KIT_131B79      KIT_131B79   639    1.0              1\n",
      "KIT_135B40      KIT_135B40  3468    1.0              0\n",
      "KIT_138B34      KIT_138B34  3468    0.0              0\n",
      "KIT_148B49      KIT_148B49  1034    0.0              1\n",
      "KIT_14B98        KIT_14B98  3680    0.0              0\n",
      "KIT_150B81      KIT_150B81  3498    0.0              0\n",
      "KIT_154B42      KIT_154B42  1247    1.0              0\n",
      "KIT_159B47      KIT_159B47  2373    1.0              1\n",
      "KIT_15C94        KIT_15C94  1612    0.0              0\n",
      "KIT_162B98      KIT_162B98  3255    1.0              0\n",
      "KIT_165B72      KIT_165B72   548    1.0              0\n",
      "KIT_166B79      KIT_166B79  3589    0.0              0\n",
      "KIT_169B79      KIT_169B79  3589    0.0              0\n",
      "KIT_170B15      KIT_170B15  1490    0.0              0\n",
      "KIT_171B77      KIT_171B77   639    0.0              1\n",
      "KIT_173B43      KIT_173B43  3954    0.0              0\n",
      "KIT_17C40        KIT_17C40   700    0.0              0\n",
      "KIT_183B75      KIT_183B75  2555    1.0              0\n",
      "KIT_191B79      KIT_191B79  1612    0.0              0\n",
      "KIT_194B60      KIT_194B60  1247    0.0              1\n",
      "KIT_202B44      KIT_202B44  3589    0.0              0\n",
      "KIT_203B49      KIT_203B49  3620    0.0              0\n",
      "KIT_207C08      KIT_207C08  3407    0.0              0\n",
      "KIT_212C21      KIT_212C21  1369    0.0              0\n",
      "KIT_216C61      KIT_216C61  3285    0.0              0\n",
      "KIT_225C52      KIT_225C52  3741    0.0              0\n",
      "...                    ...   ...    ...            ...\n",
      "MAINZ_BC6191  MAINZ_BC6191  2160    0.0              0\n",
      "MAINZ_BC6192  MAINZ_BC6192  1680    1.0              0\n",
      "MAINZ_BC6193  MAINZ_BC6193  4230    0.0              0\n",
      "MAINZ_BC6196  MAINZ_BC6196  2160    0.0              0\n",
      "MAINZ_BC6197  MAINZ_BC6197  3360    0.0              0\n",
      "MAINZ_BC6198  MAINZ_BC6198  2790    0.0              0\n",
      "MAINZ_BC6199  MAINZ_BC6199  3000    1.0              0\n",
      "MAINZ_BC6200  MAINZ_BC6200  2730    0.0              0\n",
      "MAINZ_BC6201  MAINZ_BC6201   240    1.0              0\n",
      "MAINZ_BC6203  MAINZ_BC6203  1800    0.0              0\n",
      "MAINZ_BC6204  MAINZ_BC6204  2280    1.0              0\n",
      "MAINZ_BC6205  MAINZ_BC6205    30    0.0              0\n",
      "MAINZ_BC6206  MAINZ_BC6206  1830    1.0              0\n",
      "MAINZ_BC6207  MAINZ_BC6207  4290    1.0              0\n",
      "MAINZ_BC6208  MAINZ_BC6208  2130    1.0              1\n",
      "MAINZ_BC6210  MAINZ_BC6210  1950    0.0              0\n",
      "MAINZ_BC6211  MAINZ_BC6211  1830    0.0              0\n",
      "MAINZ_BC6212  MAINZ_BC6212  1950    0.0              1\n",
      "MAINZ_BC6214  MAINZ_BC6214   360    0.0              0\n",
      "MAINZ_BC6216  MAINZ_BC6216  1350    0.0              1\n",
      "MAINZ_BC6217  MAINZ_BC6217  1620    0.0              0\n",
      "MAINZ_BC6218  MAINZ_BC6218  2280    0.0              1\n",
      "MAINZ_BC6219  MAINZ_BC6219  2340    1.0              0\n",
      "MAINZ_BC6220  MAINZ_BC6220  1260    1.0              0\n",
      "MAINZ_BC6221  MAINZ_BC6221   420    1.0              1\n",
      "MAINZ_BC6224  MAINZ_BC6224  1380    1.0              1\n",
      "MAINZ_BC6227  MAINZ_BC6227   300    1.0              0\n",
      "MAINZ_BC6230  MAINZ_BC6230   960    1.0              0\n",
      "MAINZ_BC6231  MAINZ_BC6231  1860    0.0              1\n",
      "MAINZ_BC6232  MAINZ_BC6232    90    1.0              1\n",
      "\n",
      "[2100 rows x 4 columns]\n"
     ]
    },
    {
     "ename": "NameError",
     "evalue": "name 'clf_elastic' is not defined",
     "output_type": "error",
     "traceback": [
      "\u001b[0;31m---------------------------------------------------------------------------\u001b[0m",
      "\u001b[0;31mNameError\u001b[0m                                 Traceback (most recent call last)",
      "\u001b[0;32m<ipython-input-34-5d45f5e49898>\u001b[0m in \u001b[0;36m<module>\u001b[0;34m()\u001b[0m\n\u001b[1;32m      3\u001b[0m \u001b[0mpred_data_lasso\u001b[0m \u001b[0;34m=\u001b[0m \u001b[0mpd\u001b[0m\u001b[0;34m.\u001b[0m\u001b[0mDataFrame\u001b[0m\u001b[0;34m(\u001b[0m\u001b[0md_lasso\u001b[0m\u001b[0;34m)\u001b[0m\u001b[0;34m.\u001b[0m\u001b[0mdropna\u001b[0m\u001b[0;34m(\u001b[0m\u001b[0;34m)\u001b[0m\u001b[0;34m\u001b[0m\u001b[0m\n\u001b[1;32m      4\u001b[0m \u001b[0mprint\u001b[0m\u001b[0;34m(\u001b[0m\u001b[0mpred_data_lasso\u001b[0m\u001b[0;34m)\u001b[0m\u001b[0;34m\u001b[0m\u001b[0m\n\u001b[0;32m----> 5\u001b[0;31m \u001b[0md_elastic\u001b[0m \u001b[0;34m=\u001b[0m \u001b[0;34m{\u001b[0m\u001b[0;34m\"samplename\"\u001b[0m\u001b[0;34m:\u001b[0m \u001b[0mpatients\u001b[0m\u001b[0;34m,\u001b[0m \u001b[0;34m\"time\"\u001b[0m\u001b[0;34m:\u001b[0m \u001b[0mT\u001b[0m\u001b[0;34m,\u001b[0m \u001b[0;34m\"event\"\u001b[0m\u001b[0;34m:\u001b[0m \u001b[0mE\u001b[0m\u001b[0;34m,\u001b[0m \u001b[0;34m\"cluster2_pred\"\u001b[0m\u001b[0;34m:\u001b[0m \u001b[0mclf_elastic\u001b[0m\u001b[0;34m.\u001b[0m\u001b[0mpredict\u001b[0m\u001b[0;34m(\u001b[0m\u001b[0mX_test\u001b[0m\u001b[0;34m)\u001b[0m\u001b[0;34m}\u001b[0m\u001b[0;34m\u001b[0m\u001b[0m\n\u001b[0m\u001b[1;32m      6\u001b[0m \u001b[0mpred_data_elastic\u001b[0m \u001b[0;34m=\u001b[0m \u001b[0mpd\u001b[0m\u001b[0;34m.\u001b[0m\u001b[0mDataFrame\u001b[0m\u001b[0;34m(\u001b[0m\u001b[0md_elastic\u001b[0m\u001b[0;34m)\u001b[0m\u001b[0;34m.\u001b[0m\u001b[0mdropna\u001b[0m\u001b[0;34m(\u001b[0m\u001b[0;34m)\u001b[0m\u001b[0;34m\u001b[0m\u001b[0m\n",
      "\u001b[0;31mNameError\u001b[0m: name 'clf_elastic' is not defined"
     ]
    }
   ],
   "source": [
    "# Get survival data and the predicted cluster for test data\n",
    "d_lasso = {\"samplename\": patients, \"time\": T, \"event\": E, \"cluster2_pred\": clf_lasso.predict(X_test)}\n",
    "pred_data_lasso = pd.DataFrame(d_lasso).dropna()\n",
    "d_elastic = {\"samplename\": patients, \"time\": T, \"event\": E, \"cluster2_pred\": clf_elastic.predict(X_test)}\n",
    "pred_data_elastic = pd.DataFrame(d_elastic).dropna()"
   ]
  },
  {
   "cell_type": "code",
   "execution_count": 22,
   "metadata": {},
   "outputs": [
    {
     "data": {
      "image/png": "[encoded data removed]",
      "text/plain": [
       "<Figure size 432x288 with 1 Axes>"
      ]
     },
     "metadata": {
      "needs_background": "light"
     },
     "output_type": "display_data"
    },
    {
     "data": {
      "image/png": "[encoded data removed]",
      "text/plain": [
       "<Figure size 432x288 with 1 Axes>"
      ]
     },
     "metadata": {
      "needs_background": "light"
     },
     "output_type": "display_data"
    },
    {
     "name": "stdout",
     "output_type": "stream",
     "text": [
      "Lasso: p-value =  0.014008714851250118\n",
      "Elastic-net: p-value =  4.054509745848134e-06\n"
     ]
    }
   ],
   "source": [
    "# Plot survival curves for prediction on test data\n",
    "ax = plt.subplot(111)\n",
    "f1_l, f2_l, p_l = estimate_based_on_clustering(pred_data_lasso, ax)\n",
    "plt.ylabel(\"Probability the donor is alive\")\n",
    "plt.title(\"Survival estimate for predicted clusters with Lasso penalty (p-value = %.4f)\" %p_l)\n",
    "plt.show()\n",
    "ax = plt.subplot(111)\n",
    "f1_el, f2_el, p_el = estimate_based_on_clustering(pred_data_elastic, ax)\n",
    "plt.ylabel(\"Probability the donor is alive\")\n",
    "plt.title(\"Survival estimate for predicted clusters with Elastic-net penalty (p-value = %.4f)\" %p_el)\n",
    "plt.show()\n",
    "print(\"Lasso: p-value = \", p_l)\n",
    "print(\"Elastic-net: p-value = \", p_el)"
   ]
  },
  {
   "cell_type": "code",
   "execution_count": null,
   "metadata": {},
   "outputs": [],
   "source": [
    "# Save model to file\n"
   ]
  }
 ],
 "metadata": {
  "kernelspec": {
   "display_name": "Python 3",
   "language": "python",
   "name": "python3"
  },
  "language_info": {
   "codemirror_mode": {
    "name": "ipython",
    "version": 3
   },
   "file_extension": ".py",
   "mimetype": "text/x-python",
   "name": "python",
   "nbconvert_exporter": "python",
   "pygments_lexer": "ipython3",
   "version": "3.6.6"
  }
 },
 "nbformat": 4,
 "nbformat_minor": 2
}
