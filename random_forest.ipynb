{
 "cells": [
  {
   "cell_type": "markdown",
   "metadata": {},
   "source": [
    "# Random forest classification"
   ]
  },
  {
   "cell_type": "markdown",
   "metadata": {},
   "source": [
    "Random Forest is a supervised learning algortihm that can be used for both classfication and regression. The algorithm builds multiple decision trees and merge them together to get a more stable and accurate prediction. Random Forest adds randomness to the model while increasing the number of trees. The algorithm searches for the next feature among a random subset of features, instead of trying to find the most important feature when deciding how the tree should be split. This gives a generally unbiased algorithm and generally results in a better model. However, when features are correlated, the method can be biased towards variables with many categories.  \n",
    "\n",
    "While Random Forest does not perform feature reduction as it is, it does provide information about the importance of the features chosen from the algorithm. Using this information, we are thus able to make an educated decision on how to reduce the features in the best way. For this example, we will be using Recursive Feature Elimination with cross-validation (RFECV) to reduce the number of features. RFECV removes features through cross-validation by recursively considering smaller and smaller sets of features."
   ]
  },
  {
   "cell_type": "markdown",
   "metadata": {},
   "source": [
    "## Training and testing the model "
   ]
  },
  {
   "cell_type": "markdown",
   "metadata": {},
   "source": [
    "We will first create a framework to train and test the Random Forest classifier. The framework will include reading the training and test data, training the model and validating the accuracy of the model. "
   ]
  },
  {
   "cell_type": "code",
   "execution_count": 1,
   "metadata": {},
   "outputs": [],
   "source": [
    "# Import necessary packages\n",
    "import pandas as pd\n",
    "import numpy as np\n",
    "import matplotlib.pyplot as plt\n",
    "from sklearn.ensemble import RandomForestClassifier\n",
    "from sklearn.feature_selection import RFECV\n",
    "from sklearn.metrics import accuracy_score\n",
    "from sklearn.preprocessing import StandardScaler\n",
    "from sklearn.metrics import roc_curve, auc\n",
    "from lifelines import KaplanMeierFitter\n",
    "from lifelines.statistics import logrank_test"
   ]
  },
  {
   "cell_type": "code",
   "execution_count": 2,
   "metadata": {},
   "outputs": [],
   "source": [
    "# Set random state\n",
    "SEED = 0"
   ]
  },
  {
   "cell_type": "code",
   "execution_count": 3,
   "metadata": {},
   "outputs": [],
   "source": [
    "def read_data(filename, scaling=True, info=False):\n",
    "\n",
    "    \"\"\" Function that reads file containing patient-info and gene expression\n",
    "    and separates the data into data (X) and target (y). Option to get \n",
    "    additional information (survival data, gene-list). \"\"\"\n",
    "\n",
    "    # Read data\n",
    "    data = pd.read_csv(filename, sep=\"\\t\", index_col=0, encoding=\"utf-8\")\n",
    "\n",
    "    # Save label information\n",
    "    patients = data.index\n",
    "    genes = data.columns[2:-3]\n",
    "    \n",
    "    # Survival data\n",
    "    time = data[\"time\"]\n",
    "    event = data[\"event\"]\n",
    "    \n",
    "    # Extract data and target for modeling\n",
    "    data = data.dropna()\n",
    "    X = data.loc[:,data.columns[2:-3]].values\n",
    "    y = data[\"cluster2_2\"].values\n",
    "\n",
    "    # Option to scale data when needed\n",
    "    if scaling == True:\n",
    "        scaler = StandardScaler()\n",
    "        \n",
    "        # Scale the genes\n",
    "        X = scaler.fit_transform(X) \n",
    "\n",
    "    # Option to get survival data\n",
    "    if info == True:\n",
    "        return X, y, patients, time, event, genes\n",
    "\n",
    "    return X, y"
   ]
  },
  {
   "cell_type": "code",
   "execution_count": 4,
   "metadata": {},
   "outputs": [],
   "source": [
    "# Read training and test data\n",
    "X_train, y_train = read_data(\"data/training/merged_training_data.txt\", scaling=False)\n",
    "X_test, y_test, patients, T, E, genes = read_data(\"data/test/merged_test_data.txt\", scaling=False, info=True)"
   ]
  },
  {
   "cell_type": "code",
   "execution_count": 5,
   "metadata": {},
   "outputs": [],
   "source": [
    "# Random forest classifier\n",
    "clf = RandomForestClassifier(random_state=SEED, n_jobs=8)"
   ]
  },
  {
   "cell_type": "code",
   "execution_count": 6,
   "metadata": {},
   "outputs": [],
   "source": [
    "# Fit model\n",
    "model = clf.fit(X_train, y_train)"
   ]
  },
  {
   "cell_type": "code",
   "execution_count": null,
   "metadata": {},
   "outputs": [],
   "source": [
    "# Predict on training data\n",
    "y_pred = clf.predict(X_train)"
   ]
  },
  {
   "cell_type": "code",
   "execution_count": null,
   "metadata": {},
   "outputs": [],
   "source": [
    "# Compute accuracy of model on training data\n",
    "acc_score_train = accuracy_score(y_train, y_pred)\n",
    "print(\"Accuracy score on training data: \", acc_score_train)"
   ]
  },
  {
   "cell_type": "code",
   "execution_count": null,
   "metadata": {},
   "outputs": [],
   "source": [
    "# Get number of features\n",
    "print(\"Number of features when fit is performed: \", clf.n_features_)"
   ]
  },
  {
   "cell_type": "code",
   "execution_count": null,
   "metadata": {},
   "outputs": [],
   "source": [
    "# Predict on test data\n",
    "y_pred = clf.predict(X_test)"
   ]
  },
  {
   "cell_type": "code",
   "execution_count": null,
   "metadata": {},
   "outputs": [],
   "source": [
    "# Compute accuracy for test\n",
    "acc_score_test = accuracy_score(y_test, y_pred)\n",
    "print(\"Accuracy score on test data: \",  acc_score_test)"
   ]
  },
  {
   "cell_type": "markdown",
   "metadata": {},
   "source": [
    "## Feature reduction"
   ]
  },
  {
   "cell_type": "code",
   "execution_count": null,
   "metadata": {},
   "outputs": [],
   "source": [
    "# Feature reduction with RFECV\n",
    "rfecv = RFECV(clf, step=1000, cv=5, scoring=\"accuracy\", n_jobs=16)\n",
    "rfecv = rfecv.fit(X_train, y_train)\n",
    "print(\"Optimal number of features after RFECV: \", rfecv.n_features_)"
   ]
  },
  {
   "cell_type": "code",
   "execution_count": 78,
   "metadata": {},
   "outputs": [
    {
     "data": {
      "image/png": "[encoded data removed]",
      "text/plain": [
       "<Figure size 432x288 with 1 Axes>"
      ]
     },
     "metadata": {
      "needs_background": "light"
     },
     "output_type": "display_data"
    },
    {
     "name": "stdout",
     "output_type": "stream",
     "text": [
      "Optimal number of features after RFECV: 29\n"
     ]
    }
   ],
   "source": [
    "# Plot features vs cv score\n",
    "plt.figure()\n",
    "plt.xlabel(\"Number of features after RFECV\")\n",
    "plt.ylabel(\"Cross validation score\")\n",
    "plt.plot(range(1, len(rfecv.grid_scores_) + 1), rfecv.grid_scores_)\n",
    "plt.show()\n",
    "print(\"Optimal number of features after RFECV: %d\" % rfecv.n_features_)"
   ]
  },
  {
   "cell_type": "code",
   "execution_count": 79,
   "metadata": {},
   "outputs": [],
   "source": [
    "# Train classifier with the selected features\n",
    "X_train_selected = rfecv.transform(X_train)\n",
    "clf_selected = RandomForestClassifier(random_state=SEED, n_jobs=8)\n",
    "model_selected = clf_selected.fit(X_train_selected, y_train)"
   ]
  },
  {
   "cell_type": "code",
   "execution_count": 80,
   "metadata": {},
   "outputs": [],
   "source": [
    "# Predict on selected training data\n",
    "y_pred = clf_selected.predict(X_train_selected)"
   ]
  },
  {
   "cell_type": "code",
   "execution_count": 81,
   "metadata": {},
   "outputs": [
    {
     "name": "stdout",
     "output_type": "stream",
     "text": [
      "Accuracy score on training data after RFECV:  0.9873928391326273\n"
     ]
    }
   ],
   "source": [
    "# Compute accuracy of model on selected training data\n",
    "acc_score_train = accuracy_score(y_train, y_pred)\n",
    "print(\"Accuracy score on training data after RFECV: \", acc_score_train)"
   ]
  },
  {
   "cell_type": "code",
   "execution_count": 82,
   "metadata": {},
   "outputs": [],
   "source": [
    "# Test classifier on selected features\n",
    "X_test_selected = rfecv.transform(X_test)"
   ]
  },
  {
   "cell_type": "code",
   "execution_count": 83,
   "metadata": {},
   "outputs": [],
   "source": [
    "# Predict on test data\n",
    "y_pred = clf_selected.predict(X_test_selected)"
   ]
  },
  {
   "cell_type": "code",
   "execution_count": 84,
   "metadata": {},
   "outputs": [
    {
     "name": "stdout",
     "output_type": "stream",
     "text": [
      "Accuracy score on test data  after RFECV:  0.6126893939393939\n"
     ]
    }
   ],
   "source": [
    "# Compute accuracy for test\n",
    "acc_score_test = accuracy_score(y_test, y_pred)\n",
    "print(\"Accuracy score on test data  after RFECV: \",  acc_score_test)"
   ]
  },
  {
   "cell_type": "code",
   "execution_count": 85,
   "metadata": {},
   "outputs": [
    {
     "name": "stdout",
     "output_type": "stream",
     "text": [
      "Predicted cluster     0    1\n",
      "Actual cluster              \n",
      "0                  1154  218\n",
      "1                   600  140\n"
     ]
    }
   ],
   "source": [
    "# Create confusion matrix\n",
    "conf_matrix = pd.crosstab(y_test, y_pred, rownames=['Actual cluster'], colnames=['Predicted cluster'])\n",
    "print(conf_matrix)"
   ]
  },
  {
   "cell_type": "markdown",
   "metadata": {},
   "source": [
    "## ROC curve"
   ]
  },
  {
   "cell_type": "code",
   "execution_count": 86,
   "metadata": {},
   "outputs": [],
   "source": [
    "# Compute false positives and true positives for all thresholds of classification  \n",
    "probs = clf_selected.predict_proba(X_test_selected)\n",
    "preds = probs[:,1]\n",
    "fpr, tpr, threshold = roc_curve(y_test, preds)\n",
    "roc_auc = auc(fpr, tpr)"
   ]
  },
  {
   "cell_type": "code",
   "execution_count": 87,
   "metadata": {},
   "outputs": [
    {
     "data": {
      "image/png": "[encoded data removed]",
      "text/plain": [
       "<Figure size 432x288 with 1 Axes>"
      ]
     },
     "metadata": {
      "needs_background": "light"
     },
     "output_type": "display_data"
    }
   ],
   "source": [
    "# Plot ROC curve\n",
    "plt.title('ROC for Random forest classifier')\n",
    "plt.plot(fpr, tpr, color='purple', label = 'AUC = %0.2f' % roc_auc)\n",
    "plt.legend(loc = 'lower right')\n",
    "plt.plot([0, 1], [0, 1],color=\"black\", linestyle=\"--\")\n",
    "plt.xlim([0, 1])\n",
    "plt.ylim([0, 1])\n",
    "plt.ylabel('True Positive Rate')\n",
    "plt.xlabel('False Positive Rate')\n",
    "plt.show()"
   ]
  },
  {
   "cell_type": "markdown",
   "metadata": {},
   "source": [
    "## Survival analysis"
   ]
  },
  {
   "cell_type": "code",
   "execution_count": 88,
   "metadata": {},
   "outputs": [],
   "source": [
    "def kaplan_meier(df, ax, label):\n",
    "    \"\"\" Function that estimates survival using the Kaplan-Meier estimator, given dataframe with \n",
    "    survival data. \"\"\"\n",
    "\n",
    "    # Get event and time from df\n",
    "    E = df[\"event\"] # dead = 1\n",
    "    T = df[\"time\"]\n",
    "    T = T/365. # get time in years\n",
    "    T = T.apply(lambda x: 15. if x >= 15. else x) # set time limit to 15 years\n",
    "\n",
    "    # Compute surival estimates for all donor samples\n",
    "    kmf = KaplanMeierFitter()\n",
    "    kmf.fit(T, E, label=label)\n",
    "    kmf.plot(ax=ax)\n",
    "\n",
    "    return T, E, kmf.survival_function_"
   ]
  },
  {
   "cell_type": "code",
   "execution_count": 89,
   "metadata": {},
   "outputs": [],
   "source": [
    "def estimate_based_on_clustering(df, ax):\n",
    "    \"\"\" Function that estimates survival for each cluster in a dataframe. \"\"\"\n",
    "    \n",
    "    # Cluster names and counts\n",
    "    clusters = df.cluster2_pred.unique()\n",
    "    cluster_counts = df.cluster2_pred.value_counts()\n",
    "    \n",
    "    # Estimate survival for each predicted cluster\n",
    "    C1 = df.loc[df[\"cluster2_pred\"] == 1]\n",
    "    T1, E1, c1_surv_func = kaplan_meier(C1, ax, label=\"Cluster B (n=%d)\" %cluster_counts[1])\n",
    "    C2 = df.loc[df[\"cluster2_pred\"] == 0]\n",
    "    T2, E2, c2_surv_func = kaplan_meier(C2, ax, label=\"Not cluster B (n=%d)\" %cluster_counts[0])\n",
    "\n",
    "    # Logrank test\n",
    "    res = logrank_test(T1, T2, E1, E2)\n",
    "\n",
    "    return c1_surv_func, c2_surv_func, res.p_value"
   ]
  },
  {
   "cell_type": "code",
   "execution_count": 90,
   "metadata": {},
   "outputs": [],
   "source": [
    "# Get survival data and the predicted cluster for test data\n",
    "d = {\"samplename\": patients, \"time\": T, \"event\": E, \"cluster2_pred\": y_pred}\n",
    "pred_data = pd.DataFrame(d).dropna()"
   ]
  },
  {
   "cell_type": "code",
   "execution_count": 91,
   "metadata": {},
   "outputs": [
    {
     "data": {
      "image/png": "[encoded data removed]",
      "text/plain": [
       "<Figure size 432x288 with 1 Axes>"
      ]
     },
     "metadata": {
      "needs_background": "light"
     },
     "output_type": "display_data"
    },
    {
     "name": "stdout",
     "output_type": "stream",
     "text": [
      "p-value =  0.030716937462178708\n"
     ]
    }
   ],
   "source": [
    "# Plot survival curves for prediction on test data\n",
    "ax = plt.subplot(111)\n",
    "f1, f2, p = estimate_based_on_clustering(pred_data, ax)\n",
    "plt.ylabel(\"Probability the donor is alive\")\n",
    "plt.title(\"Survival estimate for predicted clusters with Random forest classifier (p-value = %.4f)\" %p)\n",
    "plt.show()\n",
    "print(\"p-value = \", p)"
   ]
  },
  {
   "cell_type": "code",
   "execution_count": null,
   "metadata": {},
   "outputs": [],
   "source": []
  }
 ],
 "metadata": {
  "kernelspec": {
   "display_name": "Python 3",
   "language": "python",
   "name": "python3"
  },
  "language_info": {
   "codemirror_mode": {
    "name": "ipython",
    "version": 3
   },
   "file_extension": ".py",
   "mimetype": "text/x-python",
   "name": "python",
   "nbconvert_exporter": "python",
   "pygments_lexer": "ipython3",
   "version": "3.6.5"
  }
 },
 "nbformat": 4,
 "nbformat_minor": 2
}
